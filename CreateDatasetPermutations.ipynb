{
 "cells": [
  {
   "cell_type": "code",
   "execution_count": 1,
   "metadata": {
    "executionInfo": {
     "elapsed": 119,
     "status": "ok",
     "timestamp": 1751083582426,
     "user": {
      "displayName": "Ryan Aparicio",
      "userId": "10822678916457751790"
     },
     "user_tz": 300
    },
    "id": "5poutmKtCvaJ"
   },
   "outputs": [],
   "source": [
    "from itertools import permutations\n",
    "# creating list of all possible permutation\n",
    "\n",
    "data_augmentations = ['GN', 'TT', 'GAN']\n",
    "# GN = Random Gaussian Noise\n",
    "# TT = Time Transformation\n",
    "# GAN = GAN models\n",
    "\n",
    "all_permutations = []\n",
    "for r in range(0, len(data_augmentations)+1):\n",
    "  perms = list(permutations(data_augmentations, r))\n",
    "  all_permutations.extend(perms)"
   ]
  },
  {
   "cell_type": "code",
   "execution_count": 2,
   "metadata": {
    "colab": {
     "base_uri": "https://localhost:8080/"
    },
    "executionInfo": {
     "elapsed": 16,
     "status": "ok",
     "timestamp": 1751083582447,
     "user": {
      "displayName": "Ryan Aparicio",
      "userId": "10822678916457751790"
     },
     "user_tz": 300
    },
    "id": "pPv8wCsFGzMp",
    "outputId": "b0a993ba-7b5f-497f-929b-bd2d2ad6d38e"
   },
   "outputs": [
    {
     "name": "stdout",
     "output_type": "stream",
     "text": [
      "()\n",
      "('GN',)\n",
      "('TT',)\n",
      "('GAN',)\n",
      "('GN', 'TT')\n",
      "('GN', 'GAN')\n",
      "('TT', 'GN')\n",
      "('TT', 'GAN')\n",
      "('GAN', 'GN')\n",
      "('GAN', 'TT')\n",
      "('GN', 'TT', 'GAN')\n",
      "('GN', 'GAN', 'TT')\n",
      "('TT', 'GN', 'GAN')\n",
      "('TT', 'GAN', 'GN')\n",
      "('GAN', 'GN', 'TT')\n",
      "('GAN', 'TT', 'GN')\n"
     ]
    }
   ],
   "source": [
    "for p in all_permutations:\n",
    "  print(p)"
   ]
  },
  {
   "cell_type": "code",
   "execution_count": 3,
   "metadata": {
    "executionInfo": {
     "elapsed": 74,
     "status": "ok",
     "timestamp": 1751083582534,
     "user": {
      "displayName": "Ryan Aparicio",
      "userId": "10822678916457751790"
     },
     "user_tz": 300
    },
    "id": "2xoX6gXAG264"
   },
   "outputs": [],
   "source": [
    "# import data augmentation techniques\n",
    "from EEGNoiseAndTimeTransformations import plot_eeg_signals, add_gaussian_noise, time_transformation"
   ]
  },
  {
   "cell_type": "code",
   "execution_count": 4,
   "metadata": {
    "executionInfo": {
     "elapsed": 24,
     "status": "ok",
     "timestamp": 1751083582586,
     "user": {
      "displayName": "Ryan Aparicio",
      "userId": "10822678916457751790"
     },
     "user_tz": 300
    },
    "id": "aA8EuKHUKVTZ"
   },
   "outputs": [],
   "source": [
    "import pandas as pd\n",
    "# import training data\n",
    "\n",
    "# path to the training file pkl\n",
    "train_df_path = '/Users/ryan/Desktop/StackedDataAugmentation/physionetdata/eegmmidb_train_df.pkl'\n",
    "val_df_path = '/Users/ryan/Desktop/StackedDataAugmentation/physionetdata/eegmmidb_val_df.pkl'"
   ]
  },
  {
   "cell_type": "code",
   "execution_count": 5,
   "metadata": {
    "executionInfo": {
     "elapsed": 27232,
     "status": "ok",
     "timestamp": 1751083609815,
     "user": {
      "displayName": "Ryan Aparicio",
      "userId": "10822678916457751790"
     },
     "user_tz": 300
    },
    "id": "yE6UhrPMmr0_"
   },
   "outputs": [],
   "source": [
    "from EEGMMIDBDatasetLoaderV2 import EEGMMIDBDataset\n",
    "from torch.utils.data import DataLoader\n",
    "\n",
    "train_dataset = EEGMMIDBDataset(pickle_path=train_df_path, purpose='eegnet', onehot=True)\n",
    "# train_loader = DataLoader(train_dataset, batch_size=32, shuffle=True)\n",
    "\n",
    "val_dataset = EEGMMIDBDataset(pickle_path=val_df_path, purpose='eegnet', onehot=True)\n",
    "# val_loader = DataLoader(val_dataset, batch_size=32, shuffle=True)"
   ]
  },
  {
   "cell_type": "code",
   "execution_count": 6,
   "metadata": {
    "colab": {
     "base_uri": "https://localhost:8080/"
    },
    "executionInfo": {
     "elapsed": 65,
     "status": "ok",
     "timestamp": 1751083609884,
     "user": {
      "displayName": "Ryan Aparicio",
      "userId": "10822678916457751790"
     },
     "user_tz": 300
    },
    "id": "6x1sXsyenOzF",
    "outputId": "06fcae94-249f-487d-c6ce-c715f2c08229"
   },
   "outputs": [],
   "source": [
    "# print(len(train_loader))\n",
    "# for X, y in train_loader:\n",
    "#   print(f'Batch EEG Shape: {X.shape}')\n",
    "#   print(f'Batch Labels: {y}')\n",
    "#   break"
   ]
  },
  {
   "cell_type": "code",
   "execution_count": 7,
   "metadata": {
    "colab": {
     "base_uri": "https://localhost:8080/"
    },
    "executionInfo": {
     "elapsed": 161,
     "status": "ok",
     "timestamp": 1751083610050,
     "user": {
      "displayName": "Ryan Aparicio",
      "userId": "10822678916457751790"
     },
     "user_tz": 300
    },
    "id": "ADmX7DohsKOL",
    "outputId": "9078b93b-7a9b-4894-8377-9f85d8c655fa"
   },
   "outputs": [],
   "source": [
    "# insall arl-eegmodels\n",
    "# !git clone https://github.com/vlawhern/arl-eegmodels.git"
   ]
  },
  {
   "cell_type": "code",
   "execution_count": 8,
   "metadata": {
    "colab": {
     "base_uri": "https://localhost:8080/"
    },
    "executionInfo": {
     "elapsed": 58,
     "status": "ok",
     "timestamp": 1751083610104,
     "user": {
      "displayName": "Ryan Aparicio",
      "userId": "10822678916457751790"
     },
     "user_tz": 300
    },
    "id": "fGNE8hIfYMEH",
    "outputId": "80ba00b2-dba7-498c-d295-ac773f77863a"
   },
   "outputs": [
    {
     "name": "stderr",
     "output_type": "stream",
     "text": [
      "Python(3099) MallocStackLogging: can't turn off malloc stack logging because it was not enabled.\n"
     ]
    },
    {
     "name": "stdout",
     "output_type": "stream",
     "text": [
      "CreateDatasetPermutations.ipynb      \u001b[34mGANTraining\u001b[m\u001b[m\n",
      "EEGMMIDBDatasetLoaderV2.ipynb        \u001b[34m__pycache__\u001b[m\u001b[m\n",
      "EEGMMIDBDatasetLoaderV2.py           \u001b[34marl-eegmodels\u001b[m\u001b[m\n",
      "EEGNoiseAndTimeTransformations.ipynb \u001b[34mphysionetdata\u001b[m\u001b[m\n",
      "EEGNoiseAndTimeTransformations.py\n"
     ]
    }
   ],
   "source": [
    "!ls"
   ]
  },
  {
   "cell_type": "code",
   "execution_count": 9,
   "metadata": {
    "executionInfo": {
     "elapsed": 102,
     "status": "ok",
     "timestamp": 1751083610375,
     "user": {
      "displayName": "Ryan Aparicio",
      "userId": "10822678916457751790"
     },
     "user_tz": 300
    },
    "id": "B75EGT7nZvfU"
   },
   "outputs": [],
   "source": [
    "import numpy as np\n",
    "\n",
    "def torch_dataset_to_numpy(dataset):\n",
    "  \"\"\"\n",
    "  turns torch.tensors -> np.ndarrays\n",
    "  \"\"\"\n",
    "  X_list, y_list = [],[]\n",
    "  for i in range(len(dataset)):\n",
    "    x, y = dataset[i]\n",
    "    X_list.append(x.numpy())\n",
    "    y_list.append(y.numpy())\n",
    "\n",
    "  return np.stack(X_list), np.stack(y_list)"
   ]
  },
  {
   "cell_type": "code",
   "execution_count": 10,
   "metadata": {
    "colab": {
     "base_uri": "https://localhost:8080/"
    },
    "executionInfo": {
     "elapsed": 18,
     "status": "ok",
     "timestamp": 1751083610127,
     "user": {
      "displayName": "Ryan Aparicio",
      "userId": "10822678916457751790"
     },
     "user_tz": 300
    },
    "id": "kVpO1Vqdtq95",
    "outputId": "59043a48-40b1-47d9-a5f0-2627c55a83db"
   },
   "outputs": [],
   "source": [
    "X_train, y_train = torch_dataset_to_numpy(train_dataset)\n",
    "X_val, y_val = torch_dataset_to_numpy(val_dataset)"
   ]
  },
  {
   "cell_type": "code",
   "execution_count": 11,
   "metadata": {},
   "outputs": [
    {
     "name": "stdout",
     "output_type": "stream",
     "text": [
      "X_train shape: (13656, 64, 640, 1)\n",
      "y_train shape: (13656, 5)\n",
      "X_val shape: (2923, 64, 640, 1)\n",
      "y_val shape: (2923, 5)\n"
     ]
    }
   ],
   "source": [
    "print(\"X_train shape:\", X_train.shape)\n",
    "print(\"y_train shape:\", y_train.shape)\n",
    "print(\"X_val shape:\", X_val.shape)\n",
    "print(\"y_val shape:\", y_val.shape)"
   ]
  },
  {
   "cell_type": "code",
   "execution_count": 12,
   "metadata": {},
   "outputs": [
    {
     "name": "stdout",
     "output_type": "stream",
     "text": [
      "/Users/ryan/Desktop/StackedDataAugmentation/arl-eegmodels\n"
     ]
    },
    {
     "name": "stderr",
     "output_type": "stream",
     "text": [
      "/Users/ryan/Desktop/StackedDataAugmentation/.venv/lib/python3.9/site-packages/IPython/core/magics/osm.py:417: UserWarning: using dhist requires you to install the `pickleshare` library.\n",
      "  self.shell.db['dhist'] = compress_dhist(dhist)[-100:]\n"
     ]
    }
   ],
   "source": [
    "# moving to arl-eegmodels directory\n",
    "%cd arl-eegmodels/"
   ]
  },
  {
   "cell_type": "code",
   "execution_count": null,
   "metadata": {
    "colab": {
     "base_uri": "https://localhost:8080/"
    },
    "executionInfo": {
     "elapsed": 247,
     "status": "ok",
     "timestamp": 1751083610368,
     "user": {
      "displayName": "Ryan Aparicio",
      "userId": "10822678916457751790"
     },
     "user_tz": 300
    },
    "id": "ukClfyXSY88r",
    "outputId": "25a5e159-30a4-4527-966b-78f8bff2dc68"
   },
   "outputs": [
    {
     "name": "stderr",
     "output_type": "stream",
     "text": [
      "/Users/ryan/Desktop/StackedDataAugmentation/.venv/lib/python3.9/site-packages/urllib3/__init__.py:35: NotOpenSSLWarning: urllib3 v2 only supports OpenSSL 1.1.1+, currently the 'ssl' module is compiled with 'LibreSSL 2.8.3'. See: https://github.com/urllib3/urllib3/issues/3020\n",
      "  warnings.warn(\n",
      "/Users/ryan/Desktop/StackedDataAugmentation/.venv/lib/python3.9/site-packages/keras/src/layers/convolutional/base_conv.py:113: UserWarning: Do not pass an `input_shape`/`input_dim` argument to a layer. When using Sequential models, prefer using an `Input(shape)` object as the first layer in the model instead.\n",
      "  super().__init__(activity_regularizer=activity_regularizer, **kwargs)\n"
     ]
    }
   ],
   "source": [
    "from EEGModels import EEGNet\n",
    "import torch\n",
    "import torch.nn as nn\n",
    "\n",
    "# creating EEGNet\n",
    "model = EEGNet(nb_classes=5,    # num of classes\n",
    "               Chans=64,       # num of channels\n",
    "               Samples=640,     # seq_len\n",
    "               )\n",
    "model.compile(optimizer='adam',\n",
    "              loss='categorical_crossentropy',\n",
    "              metrics=['accuracy'])\n",
    "model.fit(X_train, y_train,\n",
    "          batch_size=32,\n",
    "          epochs=20,\n",
    "          validation_split=0.2,)\n",
    "loss, acc = model.evaluate(X_val, y_val)\n",
    "print(f'Val Loss: {loss}, Val Acc: {acc}')"
   ]
  }
 ],
 "metadata": {
  "colab": {
   "authorship_tag": "ABX9TyP9lL7g6biOnqFdl/1I/tgg",
   "machine_shape": "hm",
   "provenance": []
  },
  "kernelspec": {
   "display_name": ".venv",
   "language": "python",
   "name": "python3"
  },
  "language_info": {
   "codemirror_mode": {
    "name": "ipython",
    "version": 3
   },
   "file_extension": ".py",
   "mimetype": "text/x-python",
   "name": "python",
   "nbconvert_exporter": "python",
   "pygments_lexer": "ipython3",
   "version": "3.9.6"
  }
 },
 "nbformat": 4,
 "nbformat_minor": 0
}
