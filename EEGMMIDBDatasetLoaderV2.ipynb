{
 "cells": [
  {
   "cell_type": "code",
   "execution_count": 2,
   "metadata": {
    "executionInfo": {
     "elapsed": 5861,
     "status": "ok",
     "timestamp": 1751080821520,
     "user": {
      "displayName": "Ryan Aparicio",
      "userId": "10822678916457751790"
     },
     "user_tz": 300
    },
    "id": "6p7C-Gmv9jxk"
   },
   "outputs": [],
   "source": [
    "import torch\n",
    "from torch.utils.data import Dataset\n",
    "import pandas as pd\n",
    "import numpy as np"
   ]
  },
  {
   "cell_type": "code",
   "execution_count": null,
   "metadata": {
    "executionInfo": {
     "elapsed": 16,
     "status": "ok",
     "timestamp": 1751080823551,
     "user": {
      "displayName": "Ryan Aparicio",
      "userId": "10822678916457751790"
     },
     "user_tz": 300
    },
    "id": "z3vO_0Kp9mYL"
   },
   "outputs": [],
   "source": [
    "class EEGMMIDBDataset(Dataset):\n",
    "  def __init__(self, pickle_path, label_map=None, normalize=False, target_class:str=None, purpose:str='aug', onehot=False):\n",
    "    \"\"\"\n",
    "    Args:\n",
    "    pickle_path (str): path to the .pkl file with EEG data\n",
    "    label_map (dict): optional mapping from string label to integer class\n",
    "    target_class (str): optional mapping that will return rows of data that match str\n",
    "    purpose (str): 'aug' or 'eegnet' changes shape of signal output based on purpose\n",
    "    onehot (bool): if y output is a one hot encoding\n",
    "\n",
    "    return:\n",
    "\n",
    "    \"\"\"\n",
    "    self.df = pd.read_pickle(pickle_path)\n",
    "    self.normalize = normalize\n",
    "    self.target_class = target_class\n",
    "    self.purpose = purpose\n",
    "    self.onehot = onehot\n",
    "\n",
    "    # default label\n",
    "    if label_map is None:\n",
    "      self.label_map = {\n",
    "          'left_hand': 0,\n",
    "          'right_hand': 1,\n",
    "          'both_hands': 2,\n",
    "          'both_feet': 3,\n",
    "          'rest': 4\n",
    "      }\n",
    "    else:\n",
    "      self.label_map = label_map\n",
    "\n",
    "    self.num_classes = len(self.label_map)\n",
    "\n",
    "\n",
    "    # filter by class\n",
    "    if target_class is not None:\n",
    "      self.df = self.df[self.df['label'] == target_class].reset_index(drop=True)\n",
    "\n",
    "\n",
    "  def __len__(self):\n",
    "    return len(self.df)\n",
    "\n",
    "  def __getitem__(self, idx):\n",
    "      row = self.df.iloc[idx]\n",
    "      signal = row['X']  # shape: (channels, timepoints)\n",
    "      label = self.label_map[row['label']]\n",
    "\n",
    "\n",
    "      if self.normalize:\n",
    "        # Normalize\n",
    "        signal = (signal - signal.mean()) / (signal.std() + 1e-8)\n",
    "\n",
    "\n",
    "      # Pad or truncate to 640\n",
    "      if signal.shape[-1] < 640:\n",
    "          #print(idx)\n",
    "          pad_width = 640 - signal.shape[-1]\n",
    "          pad = np.zeros((signal.shape[0], pad_width), dtype=np.float32)\n",
    "          signal = np.concatenate([signal, pad], axis=1)\n",
    "      elif signal.shape[-1] > 640:\n",
    "          signal = signal[..., :640]\n",
    "\n",
    "\n",
    "      # adjust shape of signal\n",
    "      if self.purpose == 'aug':\n",
    "        # Add dummy spatial dimension → (channels, 1, timepoints)\n",
    "        signal = np.expand_dims(signal, axis=1).astype(np.float32) # -> (64, 1, 640)\n",
    "      elif self.purpose == 'eegnet':\n",
    "        signal = np.expand_dims(signal, axis=2).astype(np.float32) # -> (64, 640, 1)\n",
    "\n",
    "      # adjust type of y\n",
    "      if self.onehot:\n",
    "        label_tensor = torch.zeros(self.num_classes, dtype=torch.float32)\n",
    "        label_tensor[label] = 1.0\n",
    "      else:\n",
    "        label_tensor = torch.tensor(label, dtype=torch.long)\n",
    "\n",
    "\n",
    "\n",
    "      return torch.tensor(signal), label_tensor\n",
    "\n"
   ]
  },
  {
   "cell_type": "code",
   "execution_count": 4,
   "metadata": {},
   "outputs": [
    {
     "name": "stdout",
     "output_type": "stream",
     "text": [
      "/Users/ryan/Desktop/StackedDataAugmentation/.venv/bin/python: can't open file '/Users/ryan/Desktop/StackedDataAugmentation/nbconvert': [Errno 2] No such file or directory\n"
     ]
    }
   ],
   "source": [
    "# convert notebook to script\n",
    "!python nbconvert --to script EEGMMIDBDatasetLoaderV2.ipynb"
   ]
  },
  {
   "cell_type": "code",
   "execution_count": 10,
   "metadata": {
    "colab": {
     "base_uri": "https://localhost:8080/"
    },
    "executionInfo": {
     "elapsed": 936,
     "status": "ok",
     "timestamp": 1751001549116,
     "user": {
      "displayName": "Ryan Aparicio",
      "userId": "10822678916457751790"
     },
     "user_tz": 300
    },
    "id": "XTeBSaLR9oJr",
    "outputId": "b4547cb3-5b9d-48b2-9c60-73c47580c7c5"
   },
   "outputs": [
    {
     "name": "stdout",
     "output_type": "stream",
     "text": [
      "Drive already mounted at /content/drive; to attempt to forcibly remount, call drive.mount(\"/content/drive\", force_remount=True).\n"
     ]
    }
   ],
   "source": [
    "# import os\n",
    "# # mount to google drive\n",
    "# from google.colab import drive\n",
    "# drive.mount('/content/drive')\n",
    "\n",
    "# # defining path\n",
    "# drive_path = \"/content/drive/MyDrive/eeg_data\"\n",
    "# os.makedirs(drive_path, exist_ok=True)"
   ]
  },
  {
   "cell_type": "code",
   "execution_count": 11,
   "metadata": {
    "executionInfo": {
     "elapsed": 10,
     "status": "ok",
     "timestamp": 1751001549137,
     "user": {
      "displayName": "Ryan Aparicio",
      "userId": "10822678916457751790"
     },
     "user_tz": 300
    },
    "id": "bHFXPX019opU"
   },
   "outputs": [],
   "source": [
    "# from torch.utils.data import DataLoader\n",
    "# import pandas as pd\n",
    "\n",
    "# train_dataset = EEGMMIDBDataset(pickle_path=\"/content/drive/MyDrive/eeg_data/eegmmidb_train_df.pkl\",purpose=\"gan\")\n",
    "# val_dataset   = EEGMMIDBDataset(\"/content/drive/MyDrive/eeg_data/eegmmidb_val_df.pkl\")\n",
    "# test_dataset  = EEGMMIDBDataset(\"/content/drive/MyDrive/eeg_data/eegmmidb_test_df.pkl\")\n",
    "\n",
    "# train_loader = DataLoader(train_dataset, batch_size=32, shuffle=True)\n",
    "# val_loader   = DataLoader(val_dataset, batch_size=32, shuffle=False)\n",
    "# test_loader  = DataLoader(test_dataset, batch_size=32, shuffle=False)"
   ]
  },
  {
   "cell_type": "code",
   "execution_count": 12,
   "metadata": {
    "colab": {
     "base_uri": "https://localhost:8080/"
    },
    "executionInfo": {
     "elapsed": 39814,
     "status": "ok",
     "timestamp": 1751001588962,
     "user": {
      "displayName": "Ryan Aparicio",
      "userId": "10822678916457751790"
     },
     "user_tz": 300
    },
    "id": "4bLw-EUpyDAI",
    "outputId": "ed2d622e-50ac-434e-aa59-887669e96648"
   },
   "outputs": [
    {
     "name": "stdout",
     "output_type": "stream",
     "text": [
      "PURPOSE: aug\n",
      "EEG Shape: torch.Size([32, 64, 1, 640])\n",
      "Label Shape: torch.Size([32])\n",
      "PURPOSE: eegnet\n",
      "EEG Shape: torch.Size([32, 1, 64, 640])\n",
      "Label Shape: torch.Size([32])\n"
     ]
    }
   ],
   "source": [
    "# from torch.utils.data import DataLoader\n",
    "\n",
    "# purposes = ['aug', 'eegnet']\n",
    "\n",
    "# for p in purposes:\n",
    "#   train_dataset = EEGMMIDBDataset(pickle_path=\"/content/drive/MyDrive/eeg_data/eegmmidb_train_df.pkl\",purpose=p)\n",
    "#   train_loader = DataLoader(train_dataset, batch_size=32, shuffle=True)\n",
    "#   for X, y in train_loader:\n",
    "#     print(f'PURPOSE: {p}')\n",
    "#     print(f'EEG Shape: {X.shape}')\n",
    "#     print(f'Label Shape: {y.shape}')\n",
    "#     break\n"
   ]
  }
 ],
 "metadata": {
  "colab": {
   "provenance": []
  },
  "kernelspec": {
   "display_name": ".venv",
   "language": "python",
   "name": "python3"
  },
  "language_info": {
   "codemirror_mode": {
    "name": "ipython",
    "version": 3
   },
   "file_extension": ".py",
   "mimetype": "text/x-python",
   "name": "python",
   "nbconvert_exporter": "python",
   "pygments_lexer": "ipython3",
   "version": "3.9.6"
  }
 },
 "nbformat": 4,
 "nbformat_minor": 0
}
